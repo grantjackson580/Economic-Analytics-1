{
 "cells": [
  {
   "cell_type": "markdown",
   "metadata": {},
   "source": [
    "## <font color='green'> Least Squares Estimation using Matrix Formula and Numerical Optimization\n",
    "\n",
    "* Lecture note 2: p.19"
   ]
  },
  {
   "cell_type": "code",
   "execution_count": 1,
   "metadata": {},
   "outputs": [],
   "source": [
    "import os\n",
    "os.chdir('C:\\\\Users\\gmoor\\Documents\\Economic Analytics 1\\Data')"
   ]
  },
  {
   "cell_type": "code",
   "execution_count": 2,
   "metadata": {},
   "outputs": [
    {
     "data": {
      "text/html": [
       "<div>\n",
       "<style scoped>\n",
       "    .dataframe tbody tr th:only-of-type {\n",
       "        vertical-align: middle;\n",
       "    }\n",
       "\n",
       "    .dataframe tbody tr th {\n",
       "        vertical-align: top;\n",
       "    }\n",
       "\n",
       "    .dataframe thead th {\n",
       "        text-align: right;\n",
       "    }\n",
       "</style>\n",
       "<table border=\"1\" class=\"dataframe\">\n",
       "  <thead>\n",
       "    <tr style=\"text-align: right;\">\n",
       "      <th></th>\n",
       "      <th>Unnamed: 0</th>\n",
       "      <th>Private</th>\n",
       "      <th>Apps</th>\n",
       "      <th>Accept</th>\n",
       "      <th>Enroll</th>\n",
       "      <th>Top10perc</th>\n",
       "      <th>Top25perc</th>\n",
       "      <th>F.Undergrad</th>\n",
       "      <th>P.Undergrad</th>\n",
       "      <th>Outstate</th>\n",
       "      <th>Room.Board</th>\n",
       "      <th>Books</th>\n",
       "      <th>Personal</th>\n",
       "      <th>PhD</th>\n",
       "      <th>Terminal</th>\n",
       "      <th>S.F.Ratio</th>\n",
       "      <th>perc.alumni</th>\n",
       "      <th>Expend</th>\n",
       "      <th>Grad.Rate</th>\n",
       "    </tr>\n",
       "  </thead>\n",
       "  <tbody>\n",
       "    <tr>\n",
       "      <th>0</th>\n",
       "      <td>Abilene Christian University</td>\n",
       "      <td>1.0</td>\n",
       "      <td>1660</td>\n",
       "      <td>1232</td>\n",
       "      <td>721</td>\n",
       "      <td>23</td>\n",
       "      <td>52</td>\n",
       "      <td>2885</td>\n",
       "      <td>537</td>\n",
       "      <td>7440</td>\n",
       "      <td>3300</td>\n",
       "      <td>450</td>\n",
       "      <td>2200</td>\n",
       "      <td>70</td>\n",
       "      <td>78</td>\n",
       "      <td>18.1</td>\n",
       "      <td>12</td>\n",
       "      <td>7041</td>\n",
       "      <td>60</td>\n",
       "    </tr>\n",
       "    <tr>\n",
       "      <th>1</th>\n",
       "      <td>Adelphi University</td>\n",
       "      <td>1.0</td>\n",
       "      <td>2186</td>\n",
       "      <td>1924</td>\n",
       "      <td>512</td>\n",
       "      <td>16</td>\n",
       "      <td>29</td>\n",
       "      <td>2683</td>\n",
       "      <td>1227</td>\n",
       "      <td>12280</td>\n",
       "      <td>6450</td>\n",
       "      <td>750</td>\n",
       "      <td>1500</td>\n",
       "      <td>29</td>\n",
       "      <td>30</td>\n",
       "      <td>12.2</td>\n",
       "      <td>16</td>\n",
       "      <td>10527</td>\n",
       "      <td>56</td>\n",
       "    </tr>\n",
       "    <tr>\n",
       "      <th>2</th>\n",
       "      <td>Adrian College</td>\n",
       "      <td>1.0</td>\n",
       "      <td>1428</td>\n",
       "      <td>1097</td>\n",
       "      <td>336</td>\n",
       "      <td>22</td>\n",
       "      <td>50</td>\n",
       "      <td>1036</td>\n",
       "      <td>99</td>\n",
       "      <td>11250</td>\n",
       "      <td>3750</td>\n",
       "      <td>400</td>\n",
       "      <td>1165</td>\n",
       "      <td>53</td>\n",
       "      <td>66</td>\n",
       "      <td>12.9</td>\n",
       "      <td>30</td>\n",
       "      <td>8735</td>\n",
       "      <td>54</td>\n",
       "    </tr>\n",
       "    <tr>\n",
       "      <th>3</th>\n",
       "      <td>Agnes Scott College</td>\n",
       "      <td>1.0</td>\n",
       "      <td>417</td>\n",
       "      <td>349</td>\n",
       "      <td>137</td>\n",
       "      <td>60</td>\n",
       "      <td>89</td>\n",
       "      <td>510</td>\n",
       "      <td>63</td>\n",
       "      <td>12960</td>\n",
       "      <td>5450</td>\n",
       "      <td>450</td>\n",
       "      <td>875</td>\n",
       "      <td>92</td>\n",
       "      <td>97</td>\n",
       "      <td>7.7</td>\n",
       "      <td>37</td>\n",
       "      <td>19016</td>\n",
       "      <td>59</td>\n",
       "    </tr>\n",
       "    <tr>\n",
       "      <th>4</th>\n",
       "      <td>Alaska Pacific University</td>\n",
       "      <td>1.0</td>\n",
       "      <td>193</td>\n",
       "      <td>146</td>\n",
       "      <td>55</td>\n",
       "      <td>16</td>\n",
       "      <td>44</td>\n",
       "      <td>249</td>\n",
       "      <td>869</td>\n",
       "      <td>7560</td>\n",
       "      <td>4120</td>\n",
       "      <td>800</td>\n",
       "      <td>1500</td>\n",
       "      <td>76</td>\n",
       "      <td>72</td>\n",
       "      <td>11.9</td>\n",
       "      <td>2</td>\n",
       "      <td>10922</td>\n",
       "      <td>15</td>\n",
       "    </tr>\n",
       "  </tbody>\n",
       "</table>\n",
       "</div>"
      ],
      "text/plain": [
       "                     Unnamed: 0  Private  Apps  Accept  Enroll  Top10perc  \\\n",
       "0  Abilene Christian University      1.0  1660    1232     721         23   \n",
       "1            Adelphi University      1.0  2186    1924     512         16   \n",
       "2                Adrian College      1.0  1428    1097     336         22   \n",
       "3           Agnes Scott College      1.0   417     349     137         60   \n",
       "4     Alaska Pacific University      1.0   193     146      55         16   \n",
       "\n",
       "   Top25perc  F.Undergrad  P.Undergrad  Outstate  Room.Board  Books  Personal  \\\n",
       "0         52         2885          537      7440        3300    450      2200   \n",
       "1         29         2683         1227     12280        6450    750      1500   \n",
       "2         50         1036           99     11250        3750    400      1165   \n",
       "3         89          510           63     12960        5450    450       875   \n",
       "4         44          249          869      7560        4120    800      1500   \n",
       "\n",
       "   PhD  Terminal  S.F.Ratio  perc.alumni  Expend  Grad.Rate  \n",
       "0   70        78       18.1           12    7041         60  \n",
       "1   29        30       12.2           16   10527         56  \n",
       "2   53        66       12.9           30    8735         54  \n",
       "3   92        97        7.7           37   19016         59  \n",
       "4   76        72       11.9            2   10922         15  "
      ]
     },
     "execution_count": 2,
     "metadata": {},
     "output_type": "execute_result"
    }
   ],
   "source": [
    "import numpy as np \n",
    "import pandas as pd \n",
    "import math \n",
    "\n",
    "raw0 = pd.read_csv('College.csv')\n",
    "raw0['Private']=pd.get_dummies(raw0['Private'],drop_first=True, dtype=float)\n",
    "raw0.head()"
   ]
  },
  {
   "cell_type": "markdown",
   "metadata": {},
   "source": [
    "### <font color='green'> 1) Least Squares Estimation using Matrix Algebra\n",
    "\n",
    "https://www.fsb.miamioh.edu/lij14/411_note_matrix.pdf"
   ]
  },
  {
   "cell_type": "code",
   "execution_count": 3,
   "metadata": {},
   "outputs": [],
   "source": [
    "# convert the dataframe to a numpy array (excluding the first column-college names)\n",
    "raw00 = raw0.iloc[:,1:].values "
   ]
  },
  {
   "cell_type": "markdown",
   "metadata": {},
   "source": [
    "* We can suppress scientific notation using \"np.set_printoptions\" (e.g. np.set_printoptions(precision=2, suppress=True))\n",
    "* Scientific notation: https://en.wikipedia.org/wiki/Scientific_notation\n",
    "* np.set_printoptions: https://numpy.org/doc/stable/reference/generated/numpy.set_printoptions.html"
   ]
  },
  {
   "cell_type": "code",
   "execution_count": 4,
   "metadata": {},
   "outputs": [
    {
     "data": {
      "text/plain": [
       "array([[1.0000e+00, 1.6600e+03, 1.2320e+03, ..., 1.2000e+01, 7.0410e+03,\n",
       "        6.0000e+01],\n",
       "       [1.0000e+00, 2.1860e+03, 1.9240e+03, ..., 1.6000e+01, 1.0527e+04,\n",
       "        5.6000e+01],\n",
       "       [1.0000e+00, 1.4280e+03, 1.0970e+03, ..., 3.0000e+01, 8.7350e+03,\n",
       "        5.4000e+01],\n",
       "       ...,\n",
       "       [1.0000e+00, 2.0970e+03, 1.9150e+03, ..., 2.0000e+01, 8.3230e+03,\n",
       "        4.9000e+01],\n",
       "       [1.0000e+00, 1.0705e+04, 2.4530e+03, ..., 4.9000e+01, 4.0386e+04,\n",
       "        9.9000e+01],\n",
       "       [1.0000e+00, 2.9890e+03, 1.8550e+03, ..., 2.8000e+01, 4.5090e+03,\n",
       "        9.9000e+01]])"
      ]
     },
     "execution_count": 4,
     "metadata": {},
     "output_type": "execute_result"
    }
   ],
   "source": [
    "raw00"
   ]
  },
  {
   "cell_type": "code",
   "execution_count": 5,
   "metadata": {},
   "outputs": [],
   "source": [
    "np.set_printoptions(precision=3, suppress=True)"
   ]
  },
  {
   "cell_type": "code",
   "execution_count": 6,
   "metadata": {},
   "outputs": [
    {
     "name": "stdout",
     "output_type": "stream",
     "text": [
      "[[    1.  1660.  1232. ...    12.  7041.    60.]\n",
      " [    1.  2186.  1924. ...    16. 10527.    56.]\n",
      " [    1.  1428.  1097. ...    30.  8735.    54.]\n",
      " ...\n",
      " [    1.  2097.  1915. ...    20.  8323.    49.]\n",
      " [    1. 10705.  2453. ...    49. 40386.    99.]\n",
      " [    1.  2989.  1855. ...    28.  4509.    99.]]\n"
     ]
    }
   ],
   "source": [
    "print(raw00)"
   ]
  },
  {
   "cell_type": "code",
   "execution_count": 7,
   "metadata": {},
   "outputs": [],
   "source": [
    "# Construct X matrix\n",
    "# X=raw00[:,[4,0,8,11,16]] # select predictors (note that the first column was removed)\n",
    "# nrow = X.shape[0]\n",
    "# intcpt = np.ones( (nrow,1), ) # create an intercept\n",
    "# X = np.concatenate((intcpt, X), axis=1) # add the intercept to X (i.e X = [intcpt,X] )"
   ]
  },
  {
   "cell_type": "code",
   "execution_count": 8,
   "metadata": {},
   "outputs": [],
   "source": [
    "# Construct X matrix\n",
    "X=raw00[:,[4,0,8,11,16]] # select predictors (note that the first column was removed)"
   ]
  },
  {
   "cell_type": "code",
   "execution_count": 9,
   "metadata": {},
   "outputs": [
    {
     "data": {
      "text/plain": [
       "array([[   23.,     1.,  7440.,  2200.,  7041.],\n",
       "       [   16.,     1., 12280.,  1500., 10527.],\n",
       "       [   22.,     1., 11250.,  1165.,  8735.],\n",
       "       ...,\n",
       "       [   34.,     1.,  6900.,   781.,  8323.],\n",
       "       [   95.,     1., 19840.,  2115., 40386.],\n",
       "       [   28.,     1.,  4990.,  1250.,  4509.]])"
      ]
     },
     "execution_count": 9,
     "metadata": {},
     "output_type": "execute_result"
    }
   ],
   "source": [
    "X"
   ]
  },
  {
   "cell_type": "code",
   "execution_count": 10,
   "metadata": {},
   "outputs": [],
   "source": [
    "nrow = X.shape[0] # or can use len(x)"
   ]
  },
  {
   "cell_type": "code",
   "execution_count": 11,
   "metadata": {},
   "outputs": [],
   "source": [
    "intcpt = np.ones( (nrow,1), ) # create an intercept "
   ]
  },
  {
   "cell_type": "code",
   "execution_count": 12,
   "metadata": {},
   "outputs": [],
   "source": [
    "X = np.concatenate((intcpt, X), axis=1) # add the intercept to X (i.e X = [intcpt,X] )"
   ]
  },
  {
   "cell_type": "code",
   "execution_count": null,
   "metadata": {},
   "outputs": [],
   "source": []
  },
  {
   "cell_type": "code",
   "execution_count": 13,
   "metadata": {},
   "outputs": [],
   "source": [
    "# Construct Y vector\n",
    "Y=raw00[:,[15]]\n",
    "# raw00[:,15] returns a one-dimensional vector, and raw00[:,[15]] returns a two-dimensional \"column\" vector. Y should be the latter."
   ]
  },
  {
   "cell_type": "markdown",
   "metadata": {},
   "source": [
    "####  <font color='green'> i) Compute LS estimates\n",
    "\n",
    "$\\hat{\\beta} = (X^{'}X)^{-1}X^{'}Y$\n",
    "    \n",
    "* inv( ) from numpy.linalg\n",
    "* transpose function\n",
    "* matrix multiplication"
   ]
  },
  {
   "cell_type": "code",
   "execution_count": 14,
   "metadata": {},
   "outputs": [
    {
     "name": "stdout",
     "output_type": "stream",
     "text": [
      "[[ 7.943]\n",
      " [ 0.178]\n",
      " [ 4.864]\n",
      " [ 0.001]\n",
      " [-0.002]\n",
      " [-0.   ]]\n"
     ]
    }
   ],
   "source": [
    "from numpy.linalg import inv\n",
    "OLSres = inv(X.T@X)@(X.T@Y) # X.T means X(prime), @ = matrix multiplication \n",
    "print(OLSres)"
   ]
  },
  {
   "cell_type": "code",
   "execution_count": 15,
   "metadata": {},
   "outputs": [
    {
     "name": "stdout",
     "output_type": "stream",
     "text": [
      "                            OLS Regression Results                            \n",
      "==============================================================================\n",
      "Dep. Variable:                palumni   R-squared:                       0.387\n",
      "Model:                            OLS   Adj. R-squared:                  0.383\n",
      "Method:                 Least Squares   F-statistic:                     97.42\n",
      "Date:                Thu, 12 Sep 2024   Prob (F-statistic):           1.44e-79\n",
      "Time:                        11:40:02   Log-Likelihood:                -2867.5\n",
      "No. Observations:                 777   AIC:                             5747.\n",
      "Df Residuals:                     771   BIC:                             5775.\n",
      "Df Model:                           5                                         \n",
      "Covariance Type:            nonrobust                                         \n",
      "==============================================================================\n",
      "                 coef    std err          t      P>|t|      [0.025      0.975]\n",
      "------------------------------------------------------------------------------\n",
      "Intercept      7.9430      1.427      5.567      0.000       5.142      10.744\n",
      "Top10perc      0.1778      0.027      6.512      0.000       0.124       0.231\n",
      "Private        4.8641      0.978      4.972      0.000       2.944       6.784\n",
      "Outstate       0.0009      0.000      6.198      0.000       0.001       0.001\n",
      "Personal      -0.0022      0.001     -4.025      0.000      -0.003      -0.001\n",
      "Expend     -1.029e-05      0.000     -0.100      0.920      -0.000       0.000\n",
      "==============================================================================\n",
      "Omnibus:                       16.092   Durbin-Watson:                   2.028\n",
      "Prob(Omnibus):                  0.000   Jarque-Bera (JB):               16.514\n",
      "Skew:                           0.344   Prob(JB):                     0.000259\n",
      "Kurtosis:                       3.195   Cond. No.                     6.40e+04\n",
      "==============================================================================\n",
      "\n",
      "Notes:\n",
      "[1] Standard Errors assume that the covariance matrix of the errors is correctly specified.\n",
      "[2] The condition number is large, 6.4e+04. This might indicate that there are\n",
      "strong multicollinearity or other numerical problems.\n"
     ]
    }
   ],
   "source": [
    "# Compare the results to the previous result obtained from the statsmodels package\n",
    "import statsmodels.formula.api as smf\n",
    "raw0.rename(columns = {'perc.alumni':'palumni'}, inplace = True) # Changing the column name from perc.alumni to palumni\n",
    "\n",
    "# Fit a regression model\n",
    "OLSres2 = smf.ols('palumni ~ Top10perc + Private + Outstate + Personal + Expend', data=raw0).fit()\n",
    "print(OLSres2.summary())"
   ]
  },
  {
   "cell_type": "code",
   "execution_count": 16,
   "metadata": {},
   "outputs": [],
   "source": [
    "# Calculate Residuals\n",
    "resid = Y-X@OLSres\n",
    "# Calculate SER (Standard error of the regression)\n",
    "SER = (resid.T@resid)/(nrow-X.shape[1])\n",
    "# Calculate SE\n",
    "SE = np.sqrt(np.diag(SER*inv(X.T@X))).reshape((X.shape[1],1)) # Compare this to the previous result from the statsmodels package"
   ]
  },
  {
   "cell_type": "code",
   "execution_count": 17,
   "metadata": {},
   "outputs": [
    {
     "data": {
      "text/plain": [
       "array([[1.427],\n",
       "       [0.027],\n",
       "       [0.978],\n",
       "       [0.   ],\n",
       "       [0.001],\n",
       "       [0.   ]])"
      ]
     },
     "execution_count": 17,
     "metadata": {},
     "output_type": "execute_result"
    }
   ],
   "source": [
    "SE"
   ]
  },
  {
   "cell_type": "code",
   "execution_count": 18,
   "metadata": {},
   "outputs": [],
   "source": [
    "# Calculate T statistics\n",
    "Tstat = OLSres/SE"
   ]
  },
  {
   "cell_type": "code",
   "execution_count": 19,
   "metadata": {},
   "outputs": [
    {
     "data": {
      "text/plain": [
       "array([[ 5.567],\n",
       "       [ 6.512],\n",
       "       [ 4.972],\n",
       "       [ 6.198],\n",
       "       [-4.025],\n",
       "       [-0.1  ]])"
      ]
     },
     "execution_count": 19,
     "metadata": {},
     "output_type": "execute_result"
    }
   ],
   "source": [
    "Tstat"
   ]
  },
  {
   "cell_type": "code",
   "execution_count": 20,
   "metadata": {},
   "outputs": [],
   "source": [
    "from scipy import optimize"
   ]
  },
  {
   "cell_type": "code",
   "execution_count": 21,
   "metadata": {},
   "outputs": [],
   "source": [
    "# Define loss fn in two ways\n",
    "\n",
    "# loss function 1\n",
    "#def loss(inpt,Y,X):\n",
    "#   nrow=Y.shape[0]\n",
    "#   inpt = inpt.reshape((-1,1))\n",
    "#    loss0=0\n",
    "\n",
    "#    for i in range(0,nrow):\n",
    "        \n",
    "#            resid = Y[i,:]-X[i,:]@inpt\n",
    "#            loss0 = loss0+resid*resid\n",
    "            # can be done simply: loss0+=resid*resid (add and assign)\n",
    "            \n",
    "#    return loss0\n",
    "\n",
    "# loss function 2\n",
    "def loss2(inpt,Y,X):\n",
    "    inpt = inpt.reshape((-1,1))\n",
    "        \n",
    "    resid = Y-X@inpt\n",
    "    loss0 = (Y-X@inpt).T@(Y-X@inpt)\n",
    "            \n",
    "    return loss0"
   ]
  },
  {
   "cell_type": "markdown",
   "metadata": {},
   "source": [
    "* Optimizer \"fmin\" : https://docs.scipy.org/doc/scipy/reference/generated/scipy.optimize.fmin.html"
   ]
  },
  {
   "cell_type": "code",
   "execution_count": 22,
   "metadata": {},
   "outputs": [
    {
     "name": "stdout",
     "output_type": "stream",
     "text": [
      "Optimization terminated successfully.\n",
      "         Current function value: 73023.898799\n",
      "         Iterations: 1486\n",
      "         Function evaluations: 2368\n"
     ]
    }
   ],
   "source": [
    "# Optimize: starting values, stopping rules should be specified by the user\n",
    "inpt0 = np.zeros((X.shape[1],1)) # starting value\n",
    "OLSres2=optimize.fmin(loss2,\n",
    "                      inpt0,\n",
    "                      args=(Y,X),\n",
    "                      maxfun=40000,\n",
    "                      maxiter=40000,\n",
    "                      ftol=1e-10,\n",
    "                      xtol=1e-10,\n",
    "                      disp=True\n",
    "                     )"
   ]
  },
  {
   "cell_type": "code",
   "execution_count": 23,
   "metadata": {},
   "outputs": [
    {
     "name": "stdout",
     "output_type": "stream",
     "text": [
      "[ 7.943  0.178  4.864  0.001 -0.002 -0.   ]\n"
     ]
    }
   ],
   "source": [
    "print(OLSres2)"
   ]
  },
  {
   "cell_type": "markdown",
   "metadata": {},
   "source": [
    "### <font color='darkred'> HW3\n",
    "* Pick one of your linear regression specifications in HW2 \n",
    "* Compute least squares estimates, standard errors of the estimates and t-statistics using the matrix formula and optimization algorithm as described above </ins>\n",
    "* Compare them to the results obtained previously from the statsmodels package"
   ]
  },
  {
   "cell_type": "code",
   "execution_count": 24,
   "metadata": {},
   "outputs": [
    {
     "data": {
      "text/html": [
       "<div>\n",
       "<style scoped>\n",
       "    .dataframe tbody tr th:only-of-type {\n",
       "        vertical-align: middle;\n",
       "    }\n",
       "\n",
       "    .dataframe tbody tr th {\n",
       "        vertical-align: top;\n",
       "    }\n",
       "\n",
       "    .dataframe thead th {\n",
       "        text-align: right;\n",
       "    }\n",
       "</style>\n",
       "<table border=\"1\" class=\"dataframe\">\n",
       "  <thead>\n",
       "    <tr style=\"text-align: right;\">\n",
       "      <th></th>\n",
       "      <th>Unnamed: 0</th>\n",
       "      <th>Private</th>\n",
       "      <th>Apps</th>\n",
       "      <th>Accept</th>\n",
       "      <th>Enroll</th>\n",
       "      <th>Top10perc</th>\n",
       "      <th>Top25perc</th>\n",
       "      <th>F.Undergrad</th>\n",
       "      <th>P.Undergrad</th>\n",
       "      <th>Outstate</th>\n",
       "      <th>Room.Board</th>\n",
       "      <th>Books</th>\n",
       "      <th>Personal</th>\n",
       "      <th>PhD</th>\n",
       "      <th>Terminal</th>\n",
       "      <th>S.F.Ratio</th>\n",
       "      <th>palumni</th>\n",
       "      <th>Expend</th>\n",
       "      <th>Grad.Rate</th>\n",
       "    </tr>\n",
       "  </thead>\n",
       "  <tbody>\n",
       "    <tr>\n",
       "      <th>0</th>\n",
       "      <td>Abilene Christian University</td>\n",
       "      <td>1.0</td>\n",
       "      <td>1660</td>\n",
       "      <td>1232</td>\n",
       "      <td>721</td>\n",
       "      <td>23</td>\n",
       "      <td>52</td>\n",
       "      <td>2885</td>\n",
       "      <td>537</td>\n",
       "      <td>7440</td>\n",
       "      <td>3300</td>\n",
       "      <td>450</td>\n",
       "      <td>2200</td>\n",
       "      <td>70</td>\n",
       "      <td>78</td>\n",
       "      <td>18.1</td>\n",
       "      <td>12</td>\n",
       "      <td>7041</td>\n",
       "      <td>60</td>\n",
       "    </tr>\n",
       "    <tr>\n",
       "      <th>1</th>\n",
       "      <td>Adelphi University</td>\n",
       "      <td>1.0</td>\n",
       "      <td>2186</td>\n",
       "      <td>1924</td>\n",
       "      <td>512</td>\n",
       "      <td>16</td>\n",
       "      <td>29</td>\n",
       "      <td>2683</td>\n",
       "      <td>1227</td>\n",
       "      <td>12280</td>\n",
       "      <td>6450</td>\n",
       "      <td>750</td>\n",
       "      <td>1500</td>\n",
       "      <td>29</td>\n",
       "      <td>30</td>\n",
       "      <td>12.2</td>\n",
       "      <td>16</td>\n",
       "      <td>10527</td>\n",
       "      <td>56</td>\n",
       "    </tr>\n",
       "    <tr>\n",
       "      <th>2</th>\n",
       "      <td>Adrian College</td>\n",
       "      <td>1.0</td>\n",
       "      <td>1428</td>\n",
       "      <td>1097</td>\n",
       "      <td>336</td>\n",
       "      <td>22</td>\n",
       "      <td>50</td>\n",
       "      <td>1036</td>\n",
       "      <td>99</td>\n",
       "      <td>11250</td>\n",
       "      <td>3750</td>\n",
       "      <td>400</td>\n",
       "      <td>1165</td>\n",
       "      <td>53</td>\n",
       "      <td>66</td>\n",
       "      <td>12.9</td>\n",
       "      <td>30</td>\n",
       "      <td>8735</td>\n",
       "      <td>54</td>\n",
       "    </tr>\n",
       "    <tr>\n",
       "      <th>3</th>\n",
       "      <td>Agnes Scott College</td>\n",
       "      <td>1.0</td>\n",
       "      <td>417</td>\n",
       "      <td>349</td>\n",
       "      <td>137</td>\n",
       "      <td>60</td>\n",
       "      <td>89</td>\n",
       "      <td>510</td>\n",
       "      <td>63</td>\n",
       "      <td>12960</td>\n",
       "      <td>5450</td>\n",
       "      <td>450</td>\n",
       "      <td>875</td>\n",
       "      <td>92</td>\n",
       "      <td>97</td>\n",
       "      <td>7.7</td>\n",
       "      <td>37</td>\n",
       "      <td>19016</td>\n",
       "      <td>59</td>\n",
       "    </tr>\n",
       "    <tr>\n",
       "      <th>4</th>\n",
       "      <td>Alaska Pacific University</td>\n",
       "      <td>1.0</td>\n",
       "      <td>193</td>\n",
       "      <td>146</td>\n",
       "      <td>55</td>\n",
       "      <td>16</td>\n",
       "      <td>44</td>\n",
       "      <td>249</td>\n",
       "      <td>869</td>\n",
       "      <td>7560</td>\n",
       "      <td>4120</td>\n",
       "      <td>800</td>\n",
       "      <td>1500</td>\n",
       "      <td>76</td>\n",
       "      <td>72</td>\n",
       "      <td>11.9</td>\n",
       "      <td>2</td>\n",
       "      <td>10922</td>\n",
       "      <td>15</td>\n",
       "    </tr>\n",
       "  </tbody>\n",
       "</table>\n",
       "</div>"
      ],
      "text/plain": [
       "                     Unnamed: 0  Private  Apps  Accept  Enroll  Top10perc  \\\n",
       "0  Abilene Christian University      1.0  1660    1232     721         23   \n",
       "1            Adelphi University      1.0  2186    1924     512         16   \n",
       "2                Adrian College      1.0  1428    1097     336         22   \n",
       "3           Agnes Scott College      1.0   417     349     137         60   \n",
       "4     Alaska Pacific University      1.0   193     146      55         16   \n",
       "\n",
       "   Top25perc  F.Undergrad  P.Undergrad  Outstate  Room.Board  Books  Personal  \\\n",
       "0         52         2885          537      7440        3300    450      2200   \n",
       "1         29         2683         1227     12280        6450    750      1500   \n",
       "2         50         1036           99     11250        3750    400      1165   \n",
       "3         89          510           63     12960        5450    450       875   \n",
       "4         44          249          869      7560        4120    800      1500   \n",
       "\n",
       "   PhD  Terminal  S.F.Ratio  palumni  Expend  Grad.Rate  \n",
       "0   70        78       18.1       12    7041         60  \n",
       "1   29        30       12.2       16   10527         56  \n",
       "2   53        66       12.9       30    8735         54  \n",
       "3   92        97        7.7       37   19016         59  \n",
       "4   76        72       11.9        2   10922         15  "
      ]
     },
     "execution_count": 24,
     "metadata": {},
     "output_type": "execute_result"
    }
   ],
   "source": [
    "raw0.head()"
   ]
  },
  {
   "cell_type": "code",
   "execution_count": 26,
   "metadata": {},
   "outputs": [],
   "source": [
    "# Index: PAlumni=15, Top10perc=4, Outstate=8, Private=0, Apps=1\n",
    "\n",
    "# Construct X matrix\n",
    "X_hw = raw00[:, [4, 8, 0, 1]] # select predictors\n",
    "nrow = X_hw.shape[0]\n",
    "intcpt = np.ones((nrow, 1)) # create an intercept\n",
    "X_hw = np.concatenate((intcpt, X_hw), axis=1) # add the intercept to x\n",
    "\n",
    "# Construct Y vector\n",
    "Y_hw = raw00[:, [15]]"
   ]
  },
  {
   "cell_type": "code",
   "execution_count": 27,
   "metadata": {},
   "outputs": [
    {
     "data": {
      "text/plain": [
       "array([[ 5.233],\n",
       "       [ 0.209],\n",
       "       [ 0.001],\n",
       "       [ 2.775],\n",
       "       [-0.001]])"
      ]
     },
     "execution_count": 27,
     "metadata": {},
     "output_type": "execute_result"
    }
   ],
   "source": [
    "# Least Squares Estimation using Matrix Algebra\n",
    "from numpy.linalg import inv\n",
    "OLSres_hw = inv(X_hw.T@X_hw)@(X_hw.T@Y_hw) # X.T means X(prime), @ = matrix multiplication \n",
    "OLSres_hw"
   ]
  },
  {
   "cell_type": "code",
   "execution_count": 28,
   "metadata": {},
   "outputs": [
    {
     "data": {
      "text/plain": [
       "array([[1.025],\n",
       "       [0.026],\n",
       "       [0.   ],\n",
       "       [1.124],\n",
       "       [0.   ]])"
      ]
     },
     "execution_count": 28,
     "metadata": {},
     "output_type": "execute_result"
    }
   ],
   "source": [
    "# Calculate Residuals\n",
    "resid_hw = Y_hw-X_hw@OLSres_hw\n",
    "# Calculate SER (Standard error of the regression)\n",
    "SER_hw = (resid_hw.T@resid_hw)/(nrow-X_hw.shape[1])\n",
    "# Calculate SE\n",
    "SE_hw = np.sqrt(np.diag(SER_hw*inv(X_hw.T@X_hw))).reshape((X_hw.shape[1],1)) # Compare this to the previous result from the statsmodels package\n",
    "\n",
    "SE_hw"
   ]
  },
  {
   "cell_type": "code",
   "execution_count": 29,
   "metadata": {},
   "outputs": [
    {
     "data": {
      "text/plain": [
       "array([[ 5.106],\n",
       "       [ 8.102],\n",
       "       [ 8.448],\n",
       "       [ 2.469],\n",
       "       [-4.65 ]])"
      ]
     },
     "execution_count": 29,
     "metadata": {},
     "output_type": "execute_result"
    }
   ],
   "source": [
    "# Calculate T statistics\n",
    "Tstat_hw = OLSres_hw/SE_hw\n",
    "\n",
    "Tstat_hw"
   ]
  },
  {
   "cell_type": "code",
   "execution_count": 30,
   "metadata": {},
   "outputs": [],
   "source": [
    "# Least Squares Estimation using Numerical Optimization\n",
    "def loss_hw(inpt_hw, Y_hw, X_hw):\n",
    "    inpt_hw = inpt_hw.reshape((-1, 1))\n",
    "    resid_hw = Y_hw - X_hw @ inpt_hw\n",
    "    loss0_hw = (Y_hw - X_hw @ inpt_hw).T @ (Y_hw - X_hw @ inpt_hw)\n",
    "    return loss0_hw"
   ]
  },
  {
   "cell_type": "code",
   "execution_count": 31,
   "metadata": {},
   "outputs": [
    {
     "name": "stdout",
     "output_type": "stream",
     "text": [
      "Optimization terminated successfully.\n",
      "         Current function value: 72551.471860\n",
      "         Iterations: 1035\n",
      "         Function evaluations: 1713\n"
     ]
    }
   ],
   "source": [
    "# Optimize\n",
    "inpt0_hw = np.zeros((X_hw.shape[1], 1))  # starting value\n",
    "OLSres2_hw = optimize.fmin(loss_hw,\n",
    "                        inpt0_hw,\n",
    "                        args=(Y_hw, X_hw),\n",
    "                        maxfun=40000,\n",
    "                        maxiter=40000,\n",
    "                        ftol=1e-10,\n",
    "                        xtol=1e-10,\n",
    "                        disp=True)"
   ]
  },
  {
   "cell_type": "code",
   "execution_count": 34,
   "metadata": {},
   "outputs": [
    {
     "name": "stdout",
     "output_type": "stream",
     "text": [
      "[[ 5.233]\n",
      " [ 0.209]\n",
      " [ 0.001]\n",
      " [ 2.775]\n",
      " [-0.001]]\n"
     ]
    }
   ],
   "source": []
  },
  {
   "cell_type": "code",
   "execution_count": 37,
   "metadata": {},
   "outputs": [
    {
     "name": "stdout",
     "output_type": "stream",
     "text": [
      "[[ 5.233]\n",
      " [ 0.209]\n",
      " [ 0.001]\n",
      " [ 2.775]\n",
      " [-0.001]]\n",
      "                            OLS Regression Results                            \n",
      "==============================================================================\n",
      "Dep. Variable:                palumni   R-squared:                       0.391\n",
      "Model:                            OLS   Adj. R-squared:                  0.388\n",
      "Method:                 Least Squares   F-statistic:                     124.0\n",
      "Date:                Thu, 12 Sep 2024   Prob (F-statistic):           1.01e-81\n",
      "Time:                        11:56:12   Log-Likelihood:                -2865.0\n",
      "No. Observations:                 777   AIC:                             5740.\n",
      "Df Residuals:                     772   BIC:                             5763.\n",
      "Df Model:                           4                                         \n",
      "Covariance Type:            nonrobust                                         \n",
      "==============================================================================\n",
      "                 coef    std err          t      P>|t|      [0.025      0.975]\n",
      "------------------------------------------------------------------------------\n",
      "Intercept      5.2335      1.025      5.106      0.000       3.222       7.245\n",
      "Top10perc      0.2086      0.026      8.102      0.000       0.158       0.259\n",
      "Outstate       0.0011      0.000      8.448      0.000       0.001       0.001\n",
      "Private        2.7749      1.124      2.469      0.014       0.569       4.981\n",
      "Apps          -0.0005      0.000     -4.650      0.000      -0.001      -0.000\n",
      "==============================================================================\n",
      "Omnibus:                       16.226   Durbin-Watson:                   2.028\n",
      "Prob(Omnibus):                  0.000   Jarque-Bera (JB):               16.657\n",
      "Skew:                           0.348   Prob(JB):                     0.000242\n",
      "Kurtosis:                       3.176   Cond. No.                     4.02e+04\n",
      "==============================================================================\n",
      "\n",
      "Notes:\n",
      "[1] Standard Errors assume that the covariance matrix of the errors is correctly specified.\n",
      "[2] The condition number is large, 4.02e+04. This might indicate that there are\n",
      "strong multicollinearity or other numerical problems.\n"
     ]
    }
   ],
   "source": [
    "# 3) Compare with statsmodels\n",
    "print(OLSres_hw)\n",
    "\n",
    "OLSres2_hw = smf.ols('palumni ~ Top10perc + Outstate + Private + Apps', data=raw0).fit()\n",
    "print(OLSres2_hw.summary())"
   ]
  },
  {
   "cell_type": "code",
   "execution_count": null,
   "metadata": {},
   "outputs": [],
   "source": []
  }
 ],
 "metadata": {
  "kernelspec": {
   "display_name": "Python 3 (ipykernel)",
   "language": "python",
   "name": "python3"
  },
  "language_info": {
   "codemirror_mode": {
    "name": "ipython",
    "version": 3
   },
   "file_extension": ".py",
   "mimetype": "text/x-python",
   "name": "python",
   "nbconvert_exporter": "python",
   "pygments_lexer": "ipython3",
   "version": "3.11.7"
  }
 },
 "nbformat": 4,
 "nbformat_minor": 4
}
