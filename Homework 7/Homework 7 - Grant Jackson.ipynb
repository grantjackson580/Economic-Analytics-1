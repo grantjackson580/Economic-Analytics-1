{
 "cells": [
  {
   "cell_type": "code",
   "execution_count": 1,
   "id": "20a8ce57-957c-4648-92c0-b23c5dc124e7",
   "metadata": {},
   "outputs": [],
   "source": [
    "import os\n",
    "import numpy as np\n",
    "import pandas as pd\n",
    "from sklearn.datasets import fetch_20newsgroups\n",
    "from sklearn.feature_extraction.text import TfidfVectorizer\n",
    "from sklearn.model_selection import GridSearchCV, train_test_split\n",
    "from sklearn.svm import SVC\n",
    "from sklearn.naive_bayes import MultinomialNB\n",
    "from sklearn.metrics import classification_report, make_scorer, precision_score, recall_score"
   ]
  },
  {
   "cell_type": "code",
   "execution_count": 2,
   "id": "8e0722ee-0452-4eee-905e-6423e94ba6f4",
   "metadata": {},
   "outputs": [],
   "source": [
    "# Load the 20newsgroups dataset\n",
    "categories = [\n",
    "    'alt.atheism', 'comp.graphics', 'sci.space', 'talk.religion.misc',\n",
    "    'rec.sport.baseball', 'rec.sport.hockey', 'sci.crypt', 'sci.electronics',\n",
    "    'comp.os.ms-windows.misc', 'comp.sys.mac.hardware'\n",
    "]\n",
    "remove = ('headers', 'footers', 'quotes')\n",
    "\n",
    "data_train = fetch_20newsgroups(subset='train', categories=categories, remove=remove, shuffle=True, random_state=42)\n",
    "data_test = fetch_20newsgroups(subset='test', categories=categories, remove=remove, shuffle=True, random_state=42)\n",
    "\n",
    "# extract Y and X from the datasets\n",
    "y_train = data_train.target \n",
    "y_test = data_test.target\n",
    "\n",
    "X_train = data_train.data \n",
    "X_test = data_test.data"
   ]
  },
  {
   "cell_type": "code",
   "execution_count": 3,
   "id": "aad398f2-843d-4000-b427-9884a05f4815",
   "metadata": {},
   "outputs": [
    {
     "data": {
      "text/plain": [
       "array([3, 4, 2, ..., 7, 7, 4], dtype=int64)"
      ]
     },
     "execution_count": 3,
     "metadata": {},
     "output_type": "execute_result"
    }
   ],
   "source": [
    "y_train"
   ]
  },
  {
   "cell_type": "code",
   "execution_count": 4,
   "id": "418ca596-ff01-4090-be9e-56db349d4a1d",
   "metadata": {},
   "outputs": [
    {
     "data": {
      "text/plain": [
       "['alt.atheism',\n",
       " 'comp.graphics',\n",
       " 'comp.os.ms-windows.misc',\n",
       " 'comp.sys.mac.hardware',\n",
       " 'rec.sport.baseball',\n",
       " 'rec.sport.hockey',\n",
       " 'sci.crypt',\n",
       " 'sci.electronics',\n",
       " 'sci.space',\n",
       " 'talk.religion.misc']"
      ]
     },
     "execution_count": 4,
     "metadata": {},
     "output_type": "execute_result"
    }
   ],
   "source": [
    "# Check how each category is indexed\n",
    "data_train.target_names"
   ]
  },
  {
   "cell_type": "code",
   "execution_count": 5,
   "id": "4c510970-33da-4fa2-807e-ca952dca4765",
   "metadata": {},
   "outputs": [
    {
     "name": "stdout",
     "output_type": "stream",
     "text": [
      "\n",
      "Applied Engineering makes a NuBus card called the QuadraLink which is \n",
      "a board that contains 4 serial ports, which I believe can be used\n",
      "simultaneously.  I'm not a user of one of these, but I have installed\n",
      "a couple for people at work (I'm a technician).  Hope this helps.\n",
      "\n",
      "[3 4 2 ... 7 7 4]\n"
     ]
    }
   ],
   "source": [
    "print(X_train[0]) # text\n",
    "print(y_train) # integers (0-3)"
   ]
  },
  {
   "cell_type": "code",
   "execution_count": 6,
   "id": "49ab603e-dcf9-49e6-b146-9df21401609b",
   "metadata": {},
   "outputs": [
    {
     "name": "stdout",
     "output_type": "stream",
     "text": [
      "(5586, 71611)\n",
      "(3717, 71611)\n"
     ]
    }
   ],
   "source": [
    "# Convert texts to numerical vectors using TfidfVectorizer\n",
    "vectorizer = TfidfVectorizer(stop_words='english')\n",
    "X_train = vectorizer.fit_transform(X_train)\n",
    "X_test = vectorizer.transform(X_test)\n",
    "\n",
    "# Check the size of X_train\n",
    "print(X_train.shape)\n",
    "print(X_test.shape)"
   ]
  },
  {
   "cell_type": "code",
   "execution_count": 7,
   "id": "0dd73434-b2e8-48dd-a3b7-4ee8193f48f2",
   "metadata": {},
   "outputs": [],
   "source": [
    "# Define parameter grid of SVC\n",
    "tuned_parameters_svc = [\n",
    "    {'kernel': ['rbf'], 'C': [1, 10, 100, 1000]},\n",
    "    {'kernel': ['linear'], 'C': [1, 10, 100, 1000]},\n",
    "    {'kernel': ['poly'], 'degree': [5, 5], 'C': [1, 10, 100]},\n",
    "    {'kernel': ['sigmoid'], 'coef0': [0, 1, 2, 'C': [1, 10, 100]}\n",
    "]"
   ]
  },
  {
   "cell_type": "code",
   "execution_count": 8,
   "id": "70b678a0-4a50-4da0-bc8e-5eec6b262b55",
   "metadata": {},
   "outputs": [],
   "source": [
    "# Define scoring metrics\n",
    "scores = ['precision_macro', 'recall_macro']"
   ]
  },
  {
   "cell_type": "code",
   "execution_count": 10,
   "id": "b9c5b93e-3369-4fe6-b1f0-9550a614ae90",
   "metadata": {},
   "outputs": [
    {
     "name": "stdout",
     "output_type": "stream",
     "text": [
      "# Tuning hyper-parameters for precision_macro\n",
      "\n"
     ]
    },
    {
     "name": "stderr",
     "output_type": "stream",
     "text": [
      "C:\\ProgramData\\anaconda3\\Lib\\site-packages\\sklearn\\metrics\\_classification.py:1344: UndefinedMetricWarning: Precision is ill-defined and being set to 0.0 in labels with no predicted samples. Use `zero_division` parameter to control this behavior.\n",
      "  _warn_prf(average, modifier, msg_start, len(result))\n",
      "C:\\ProgramData\\anaconda3\\Lib\\site-packages\\sklearn\\metrics\\_classification.py:1344: UndefinedMetricWarning: Precision is ill-defined and being set to 0.0 in labels with no predicted samples. Use `zero_division` parameter to control this behavior.\n",
      "  _warn_prf(average, modifier, msg_start, len(result))\n",
      "C:\\ProgramData\\anaconda3\\Lib\\site-packages\\sklearn\\metrics\\_classification.py:1344: UndefinedMetricWarning: Precision is ill-defined and being set to 0.0 in labels with no predicted samples. Use `zero_division` parameter to control this behavior.\n",
      "  _warn_prf(average, modifier, msg_start, len(result))\n",
      "C:\\ProgramData\\anaconda3\\Lib\\site-packages\\sklearn\\metrics\\_classification.py:1344: UndefinedMetricWarning: Precision is ill-defined and being set to 0.0 in labels with no predicted samples. Use `zero_division` parameter to control this behavior.\n",
      "  _warn_prf(average, modifier, msg_start, len(result))\n",
      "C:\\ProgramData\\anaconda3\\Lib\\site-packages\\sklearn\\metrics\\_classification.py:1344: UndefinedMetricWarning: Precision is ill-defined and being set to 0.0 in labels with no predicted samples. Use `zero_division` parameter to control this behavior.\n",
      "  _warn_prf(average, modifier, msg_start, len(result))\n",
      "C:\\ProgramData\\anaconda3\\Lib\\site-packages\\sklearn\\metrics\\_classification.py:1344: UndefinedMetricWarning: Precision is ill-defined and being set to 0.0 in labels with no predicted samples. Use `zero_division` parameter to control this behavior.\n",
      "  _warn_prf(average, modifier, msg_start, len(result))\n",
      "C:\\ProgramData\\anaconda3\\Lib\\site-packages\\sklearn\\metrics\\_classification.py:1344: UndefinedMetricWarning: Precision is ill-defined and being set to 0.0 in labels with no predicted samples. Use `zero_division` parameter to control this behavior.\n",
      "  _warn_prf(average, modifier, msg_start, len(result))\n"
     ]
    },
    {
     "name": "stdout",
     "output_type": "stream",
     "text": [
      "Best parameters set found on train set:\n",
      "{'C': 1, 'degree': 5, 'kernel': 'poly'}\n",
      "\n",
      "Grid scores on train set:\n",
      "0.809 (+/-0.031) for {'C': 1, 'kernel': 'rbf'}\n",
      "0.815 (+/-0.029) for {'C': 10, 'kernel': 'rbf'}\n",
      "0.815 (+/-0.029) for {'C': 100, 'kernel': 'rbf'}\n",
      "0.815 (+/-0.029) for {'C': 1000, 'kernel': 'rbf'}\n",
      "0.811 (+/-0.025) for {'C': 1, 'kernel': 'linear'}\n",
      "0.801 (+/-0.034) for {'C': 10, 'kernel': 'linear'}\n",
      "0.801 (+/-0.027) for {'C': 100, 'kernel': 'linear'}\n",
      "0.802 (+/-0.022) for {'C': 1000, 'kernel': 'linear'}\n",
      "0.800 (+/-0.022) for {'C': 1, 'degree': 3, 'kernel': 'poly'}\n",
      "0.883 (+/-0.033) for {'C': 1, 'degree': 5, 'kernel': 'poly'}\n",
      "0.846 (+/-0.031) for {'C': 10, 'degree': 3, 'kernel': 'poly'}\n",
      "0.839 (+/-0.079) for {'C': 10, 'degree': 5, 'kernel': 'poly'}\n",
      "0.878 (+/-0.045) for {'C': 100, 'degree': 3, 'kernel': 'poly'}\n",
      "0.773 (+/-0.063) for {'C': 100, 'degree': 5, 'kernel': 'poly'}\n",
      "0.809 (+/-0.029) for {'C': 1, 'coef0': 0, 'kernel': 'sigmoid'}\n",
      "0.813 (+/-0.032) for {'C': 1, 'coef0': 1, 'kernel': 'sigmoid'}\n",
      "0.783 (+/-0.025) for {'C': 10, 'coef0': 0, 'kernel': 'sigmoid'}\n",
      "0.774 (+/-0.038) for {'C': 10, 'coef0': 1, 'kernel': 'sigmoid'}\n",
      "0.778 (+/-0.020) for {'C': 100, 'coef0': 0, 'kernel': 'sigmoid'}\n",
      "0.695 (+/-0.031) for {'C': 100, 'coef0': 1, 'kernel': 'sigmoid'}\n",
      "\n",
      "Detailed classification report:\n",
      "The scores are computed on test set.\n",
      "              precision    recall  f1-score   support\n",
      "\n",
      "           0       0.93      0.04      0.08       319\n",
      "           1       0.90      0.12      0.21       389\n",
      "           2       0.87      0.10      0.18       394\n",
      "           3       0.88      0.10      0.18       385\n",
      "           4       0.12      1.00      0.21       397\n",
      "           5       0.96      0.20      0.33       399\n",
      "           6       0.85      0.13      0.22       396\n",
      "           7       0.81      0.06      0.10       393\n",
      "           8       0.88      0.15      0.25       394\n",
      "           9       0.00      0.00      0.00       251\n",
      "\n",
      "    accuracy                           0.20      3717\n",
      "   macro avg       0.72      0.19      0.18      3717\n",
      "weighted avg       0.74      0.20      0.19      3717\n",
      "\n",
      "\n",
      "# Tuning hyper-parameters for recall_macro\n",
      "\n",
      "Best parameters set found on train set:\n",
      "{'C': 1, 'kernel': 'linear'}\n",
      "\n",
      "Grid scores on train set:\n",
      "0.769 (+/-0.026) for {'C': 1, 'kernel': 'rbf'}\n",
      "0.786 (+/-0.030) for {'C': 10, 'kernel': 'rbf'}\n",
      "0.786 (+/-0.030) for {'C': 100, 'kernel': 'rbf'}\n",
      "0.786 (+/-0.030) for {'C': 1000, 'kernel': 'rbf'}\n",
      "0.788 (+/-0.029) for {'C': 1, 'kernel': 'linear'}\n",
      "0.763 (+/-0.040) for {'C': 10, 'kernel': 'linear'}\n",
      "0.695 (+/-0.029) for {'C': 100, 'kernel': 'linear'}\n",
      "0.688 (+/-0.032) for {'C': 1000, 'kernel': 'linear'}\n",
      "0.601 (+/-0.051) for {'C': 1, 'degree': 3, 'kernel': 'poly'}\n",
      "0.255 (+/-0.022) for {'C': 1, 'degree': 5, 'kernel': 'poly'}\n",
      "0.378 (+/-0.065) for {'C': 10, 'degree': 3, 'kernel': 'poly'}\n",
      "0.172 (+/-0.034) for {'C': 10, 'degree': 5, 'kernel': 'poly'}\n",
      "0.153 (+/-0.038) for {'C': 100, 'degree': 3, 'kernel': 'poly'}\n",
      "0.118 (+/-0.011) for {'C': 100, 'degree': 5, 'kernel': 'poly'}\n",
      "0.782 (+/-0.033) for {'C': 1, 'coef0': 0, 'kernel': 'sigmoid'}\n",
      "0.723 (+/-0.034) for {'C': 1, 'coef0': 1, 'kernel': 'sigmoid'}\n",
      "0.758 (+/-0.029) for {'C': 10, 'coef0': 0, 'kernel': 'sigmoid'}\n",
      "0.763 (+/-0.036) for {'C': 10, 'coef0': 1, 'kernel': 'sigmoid'}\n",
      "0.701 (+/-0.027) for {'C': 100, 'coef0': 0, 'kernel': 'sigmoid'}\n",
      "0.658 (+/-0.022) for {'C': 100, 'coef0': 1, 'kernel': 'sigmoid'}\n",
      "\n",
      "Detailed classification report:\n",
      "The scores are computed on test set.\n",
      "              precision    recall  f1-score   support\n",
      "\n",
      "           0       0.59      0.59      0.59       319\n",
      "           1       0.71      0.77      0.74       389\n",
      "           2       0.80      0.68      0.74       394\n",
      "           3       0.80      0.72      0.76       385\n",
      "           4       0.83      0.83      0.83       397\n",
      "           5       0.91      0.84      0.87       399\n",
      "           6       0.88      0.72      0.79       396\n",
      "           7       0.63      0.71      0.67       393\n",
      "           8       0.57      0.81      0.67       394\n",
      "           9       0.62      0.53      0.57       251\n",
      "\n",
      "    accuracy                           0.73      3717\n",
      "   macro avg       0.74      0.72      0.72      3717\n",
      "weighted avg       0.74      0.73      0.73      3717\n",
      "\n",
      "\n"
     ]
    }
   ],
   "source": [
    "# GridSearch Optimize SVC\n",
    "for score in scores:\n",
    "    print(f\"# Tuning hyper-parameters for {score}\\n\")\n",
    "\n",
    "    clf_svc = GridSearchCV(SVC(), tuned_parameters_svc, scoring=score, cv=5)\n",
    "    clf_svc.fit(X_train, y_train)\n",
    "\n",
    "    print(\"Best parameters set found on train set:\")\n",
    "    print(clf_svc.best_params_)\n",
    "    print(\"\\nGrid scores on train set:\")\n",
    "    means = clf_svc.cv_results_['mean_test_score']\n",
    "    stds = clf_svc.cv_results_['std_test_score']\n",
    "    for mean, std, params in zip(means, stds, clf_svc.cv_results_['params']):\n",
    "        print(f\"{mean:.3f} (+/-{std * 2:.03f}) for {params}\")\n",
    "\n",
    "    print(\"\\nDetailed classification report:\")\n",
    "    print(\"The scores are computed on test set.\")\n",
    "    y_pred = clf_svc.predict(X_test)\n",
    "    print(classification_report(y_test, y_pred, zero_division=1))\n",
    "    print()"
   ]
  },
  {
   "cell_type": "code",
   "execution_count": null,
   "id": "c3b057b2-435b-4e1d-ba6f-f7c2db23a56b",
   "metadata": {},
   "outputs": [],
   "source": [
    "# I had trouble debugging the code above, \n",
    "# I tried several different methods in defining the scoring metrics and editing the GridSearchCV itself."
   ]
  },
  {
   "cell_type": "code",
   "execution_count": 14,
   "id": "bd504996-94c6-484e-a005-d9c30ce916ea",
   "metadata": {},
   "outputs": [
    {
     "name": "stdout",
     "output_type": "stream",
     "text": [
      "\n",
      "Optimizing Naive Bayes...\n",
      "\n",
      "Tuning NB hyper-parameters for precision_macro\n",
      "\n",
      "Best parameters found:\n",
      "{'alpha': 0.1}\n",
      "\n",
      "Grid scores on training set:\n",
      "0.832 (+/-0.033) for {'alpha': 0.1}\n",
      "0.813 (+/-0.032) for {'alpha': 0.5}\n",
      "0.803 (+/-0.036) for {'alpha': 1.0}\n",
      "0.790 (+/-0.057) for {'alpha': 2.0}\n",
      "0.775 (+/-0.050) for {'alpha': 5.0}\n",
      "\n",
      "Detailed classification report on test set:\n",
      "              precision    recall  f1-score   support\n",
      "\n",
      "           0       0.66      0.65      0.66       319\n",
      "           1       0.75      0.78      0.76       389\n",
      "           2       0.81      0.70      0.75       394\n",
      "           3       0.80      0.77      0.79       385\n",
      "           4       0.92      0.85      0.88       397\n",
      "           5       0.71      0.94      0.81       399\n",
      "           6       0.66      0.84      0.74       396\n",
      "           7       0.83      0.68      0.75       393\n",
      "           8       0.79      0.83      0.81       394\n",
      "           9       0.75      0.43      0.54       251\n",
      "\n",
      "    accuracy                           0.76      3717\n",
      "   macro avg       0.77      0.75      0.75      3717\n",
      "weighted avg       0.77      0.76      0.76      3717\n",
      "\n",
      "\n",
      "Tuning NB hyper-parameters for recall_macro\n",
      "\n",
      "Best parameters found:\n",
      "{'alpha': 0.1}\n",
      "\n",
      "Grid scores on training set:\n",
      "0.810 (+/-0.028) for {'alpha': 0.1}\n",
      "0.774 (+/-0.018) for {'alpha': 0.5}\n",
      "0.755 (+/-0.021) for {'alpha': 1.0}\n",
      "0.733 (+/-0.030) for {'alpha': 2.0}\n",
      "0.699 (+/-0.025) for {'alpha': 5.0}\n",
      "\n",
      "Detailed classification report on test set:\n",
      "              precision    recall  f1-score   support\n",
      "\n",
      "           0       0.66      0.65      0.66       319\n",
      "           1       0.75      0.78      0.76       389\n",
      "           2       0.81      0.70      0.75       394\n",
      "           3       0.80      0.77      0.79       385\n",
      "           4       0.92      0.85      0.88       397\n",
      "           5       0.71      0.94      0.81       399\n",
      "           6       0.66      0.84      0.74       396\n",
      "           7       0.83      0.68      0.75       393\n",
      "           8       0.79      0.83      0.81       394\n",
      "           9       0.75      0.43      0.54       251\n",
      "\n",
      "    accuracy                           0.76      3717\n",
      "   macro avg       0.77      0.75      0.75      3717\n",
      "weighted avg       0.77      0.76      0.76      3717\n",
      "\n"
     ]
    }
   ],
   "source": [
    "# GridSearch Optimize NB\n",
    "print(\"\\nOptimizing Naive Bayes...\")\n",
    "nb_parameters = {\n",
    "    'alpha': [0.1, 0.5, 1.0, 2.0, 5.0]\n",
    "}\n",
    "\n",
    "for score in scores:\n",
    "    print(f\"\\nTuning NB hyper-parameters for {score}\")\n",
    "    nb_clf = GridSearchCV(\n",
    "        MultinomialNB(),\n",
    "        nb_parameters,\n",
    "        cv=5,\n",
    "        scoring=score  # Remove the _macro suffix since 'scores' already includes it\n",
    "    )\n",
    "    nb_clf.fit(X_train, y_train)\n",
    "    \n",
    "    print(\"\\nBest parameters found:\")\n",
    "    print(nb_clf.best_params_)\n",
    "    \n",
    "    print(\"\\nGrid scores on training set:\")\n",
    "    means = nb_clf.cv_results_['mean_test_score']\n",
    "    stds = nb_clf.cv_results_['std_test_score']\n",
    "    for mean, std, params in zip(means, stds, nb_clf.cv_results_['params']):\n",
    "        print(f\"{mean:0.3f} (+/-{std*2:0.03f}) for {params}\")\n",
    "    \n",
    "    print(\"\\nDetailed classification report on test set:\")\n",
    "    y_pred = nb_clf.predict(X_test)\n",
    "    print(classification_report(y_test, y_pred))"
   ]
  }
 ],
 "metadata": {
  "kernelspec": {
   "display_name": "Python 3 (ipykernel)",
   "language": "python",
   "name": "python3"
  },
  "language_info": {
   "codemirror_mode": {
    "name": "ipython",
    "version": 3
   },
   "file_extension": ".py",
   "mimetype": "text/x-python",
   "name": "python",
   "nbconvert_exporter": "python",
   "pygments_lexer": "ipython3",
   "version": "3.11.7"
  }
 },
 "nbformat": 4,
 "nbformat_minor": 5
}
