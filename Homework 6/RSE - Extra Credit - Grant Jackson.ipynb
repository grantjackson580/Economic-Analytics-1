{
 "cells": [
  {
   "cell_type": "markdown",
   "metadata": {},
   "source": [
    "## <font color='green'> Simulations on the standard error of $\\hat{\\beta}_{OLS}$ under homoskedastic, heteroskedastic and clustered errors \\& four estimators for the standard error"
   ]
  },
  {
   "cell_type": "code",
   "execution_count": 1,
   "metadata": {},
   "outputs": [],
   "source": [
    "import numpy as np \n",
    "import pandas as pd\n",
    "import math"
   ]
  },
  {
   "cell_type": "markdown",
   "metadata": {},
   "source": [
    "## <font color='green'> Simulation setup \n",
    "* Model: a simple linear regression with group structure - $y_{ig} = x_{ig}\\beta_0 + u_{ig}$ for $i=1,...,n$, $g=1,...,G$ \n",
    "    - g = group index (the groups are of equal size); i = individual index within groups\n",
    "    - n = the number of individuals in each group; G = the number of groups\n",
    "* Four data generating processes for the regression errors ($u_{ig}$)\n",
    "    - dgp1 = homoskedastic + normal errors (i.e., the errors are independently generated from a normal distribution with a constant variance)\n",
    "    - dgp2 = heteroskedastic + normal errors (i.e., the errors are independently generated from a normal distribution with varying variance)\n",
    "    - dgp3 = clustered + normal errors (i.e., the errors are generated from a normal distribution with some covariance between errors within groups)\n",
    "    - dgp4 = homoskedastic + log-normal errors (i.e., the errors are independently generated from a log-normal distribution with varying variance)\n",
    "* Four estimators for the standard error of $\\hat{\\beta}_{OLS}$\n",
    "    - se1 = $\\hat{\\sigma}^2 (X^{'}X)^{-1}$\n",
    "    - se2 = $(X^{'}X)^{-1} \\left[ \\sum_{i=1}^n x_ix_i^{'} \\sigma_i^2 \\right] (X^{'}X)^{-1}$ (White)\n",
    "    - se3 = $(X^{'}X)^{-1} \\left[ \\sum_{g=1}^G X_{g}^{'} \\Sigma_{g}X_{g} \\right] (X^{'}X)^{-1} $ (Arellano)\n",
    "    - se4 = Bootstrap se (which uses individual observation-level resampling, so it is not robust to clustered errors)"
   ]
  },
  {
   "cell_type": "markdown",
   "metadata": {},
   "source": [
    "### <font color='green'> 1) Data generation"
   ]
  },
  {
   "cell_type": "code",
   "execution_count": 2,
   "metadata": {},
   "outputs": [],
   "source": [
    "# setting simulation parameters\n",
    "dgp, n, G, beta0 = 1, 100, 100, 1"
   ]
  },
  {
   "cell_type": "code",
   "execution_count": 3,
   "metadata": {},
   "outputs": [
    {
     "name": "stdout",
     "output_type": "stream",
     "text": [
      "[[-0.00252333]\n",
      " [-0.02822973]\n",
      " [-0.14752546]\n",
      " ...\n",
      " [-0.00248461]\n",
      " [-0.0348068 ]\n",
      " [ 0.15743863]]\n"
     ]
    }
   ],
   "source": [
    "# generate a covariate (x) from the standard normal distribution\n",
    "xmu, xsigma2 = 0, 0.1 # mean and standard deviation\n",
    "X = np.random.normal(xmu, xsigma2, (n*G,1))\n",
    "print(X)"
   ]
  },
  {
   "cell_type": "code",
   "execution_count": 4,
   "metadata": {},
   "outputs": [],
   "source": [
    "# generate regression errors\n",
    "if dgp == 1:\n",
    "    u = np.random.normal(0, 2, (n*G,1))\n",
    "    \n",
    "elif dgp == 2:\n",
    "    u = np.zeros((n*G,1))\n",
    "    for i in range(0,n*G):\n",
    "        sigma2 = abs(X[i,0])\n",
    "        u[i,0] = np.random.normal(0, sigma2)\n",
    "        \n",
    "elif dgp == 3:\n",
    "    u = np.empty((0,1))\n",
    "    X = np.empty((0,1))\n",
    "    for g in range(0,G):\n",
    "        x0 = np.random.normal(xmu, xsigma2, (n,1)) + np.random.normal(xmu, xsigma2)\n",
    "        X = np.concatenate((X, np.reshape(x0,(n,1))), axis=0)\n",
    "        u0 = np.random.normal(0, 1, (n,1)) + np.random.normal(0,1)\n",
    "        u = np.concatenate((u, np.reshape(u0,(n,1))), axis=0)\n",
    "\n",
    "else:\n",
    "     u = (np.exp(np.random.normal(0, 1, (n*G,1)))-np.exp(0.5))/np.sqrt(np.exp(2)-np.exp(1))*np.sqrt((X > 0)*3+(X < 0)*1)"
   ]
  },
  {
   "cell_type": "code",
   "execution_count": 5,
   "metadata": {},
   "outputs": [
    {
     "name": "stdout",
     "output_type": "stream",
     "text": [
      "[[ 2.00061646]\n",
      " [ 0.79433164]\n",
      " [ 0.02666713]\n",
      " ...\n",
      " [-0.97554298]\n",
      " [-1.28800836]\n",
      " [ 0.97574006]]\n"
     ]
    }
   ],
   "source": [
    "# generate y\n",
    "Y = X*beta0 + u\n",
    "print(Y)"
   ]
  },
  {
   "cell_type": "markdown",
   "metadata": {},
   "source": [
    "### <font color='green'> 2) Calculating the OLS estimate of $\\beta_0$ and four different standard error estimates"
   ]
  },
  {
   "cell_type": "code",
   "execution_count": 6,
   "metadata": {},
   "outputs": [
    {
     "name": "stdout",
     "output_type": "stream",
     "text": [
      "[[0.94785037]]\n"
     ]
    }
   ],
   "source": [
    "# OLS estimate\n",
    "beta_ols = (X.T@Y)/(X.T@X)\n",
    "print(beta_ols)"
   ]
  },
  {
   "cell_type": "code",
   "execution_count": 7,
   "metadata": {},
   "outputs": [
    {
     "name": "stderr",
     "output_type": "stream",
     "text": [
      "C:\\Users\\gmoor\\AppData\\Local\\Temp\\ipykernel_28468\\2125788348.py:7: DeprecationWarning: Conversion of an array with ndim > 0 to a scalar is deprecated, and will error in future. Ensure you extract a single element from your array before performing this operation. (Deprecated NumPy 1.25.)\n",
      "  SES[0,0] = np.sqrt(sigma2e/(X.T@X))\n"
     ]
    }
   ],
   "source": [
    "# Four standard error estimates\n",
    "SES = np.zeros((1,4))\n",
    "\n",
    "# se1\n",
    "resid = Y-X*beta_ols\n",
    "sigma2e = (resid.T@resid)/(X.shape[0]-X.shape[1])\n",
    "SES[0,0] = np.sqrt(sigma2e/(X.T@X))"
   ]
  },
  {
   "cell_type": "code",
   "execution_count": 8,
   "metadata": {},
   "outputs": [
    {
     "name": "stderr",
     "output_type": "stream",
     "text": [
      "C:\\Users\\gmoor\\AppData\\Local\\Temp\\ipykernel_28468\\1160179973.py:2: DeprecationWarning: Conversion of an array with ndim > 0 to a scalar is deprecated, and will error in future. Ensure you extract a single element from your array before performing this operation. (Deprecated NumPy 1.25.)\n",
      "  SES[0,1] = np.sqrt(((resid*resid).T@(X*X))/((X.T@X)**2))\n"
     ]
    }
   ],
   "source": [
    "# se2\n",
    "SES[0,1] = np.sqrt(((resid*resid).T@(X*X))/((X.T@X)**2))"
   ]
  },
  {
   "cell_type": "code",
   "execution_count": 9,
   "metadata": {},
   "outputs": [
    {
     "name": "stderr",
     "output_type": "stream",
     "text": [
      "C:\\Users\\gmoor\\AppData\\Local\\Temp\\ipykernel_28468\\1192349785.py:8: DeprecationWarning: Conversion of an array with ndim > 0 to a scalar is deprecated, and will error in future. Ensure you extract a single element from your array before performing this operation. (Deprecated NumPy 1.25.)\n",
      "  SES[0,2] = np.sqrt(adj*SE30/((X.T@X)**2))\n"
     ]
    }
   ],
   "source": [
    "# se3\n",
    "SE30 = 0\n",
    "for g in range(0,G):\n",
    "    SE30 += X[g*n:(g+1)*n,0:1].T@(resid[g*n:(g+1)*n,0:1]@resid[g*n:(g+1)*n,0:1].T)@X[g*n:(g+1)*n,0:1]\n",
    "    \n",
    "# finite sample adjustment (Hansen, 2007) \n",
    "adj = (n*G-1)/(n*G-X.shape[1])*(G)/(G-1)\n",
    "SES[0,2] = np.sqrt(adj*SE30/((X.T@X)**2))"
   ]
  },
  {
   "cell_type": "code",
   "execution_count": 10,
   "metadata": {},
   "outputs": [
    {
     "name": "stderr",
     "output_type": "stream",
     "text": [
      "C:\\Users\\gmoor\\AppData\\Local\\Temp\\ipykernel_28468\\720010153.py:7: DeprecationWarning: Conversion of an array with ndim > 0 to a scalar is deprecated, and will error in future. Ensure you extract a single element from your array before performing this operation. (Deprecated NumPy 1.25.)\n",
      "  Boot[b,0] = (Xr.T@Yr)/(Xr.T@Xr)\n"
     ]
    }
   ],
   "source": [
    "# se4\n",
    "from sklearn.utils import resample\n",
    "B = 1000\n",
    "Boot = np.zeros((B,1))\n",
    "for b in range(0,B):\n",
    "    Yr, Xr = resample(Y, X)\n",
    "    Boot[b,0] = (Xr.T@Yr)/(Xr.T@Xr)\n",
    "    \n",
    "SE4 = np.std(Boot)"
   ]
  },
  {
   "cell_type": "code",
   "execution_count": 11,
   "metadata": {},
   "outputs": [],
   "source": [
    "# trimming extreme values\n",
    "Boot2 = np.sort(Boot, axis=0)\n",
    "SES[0,3] = np.std(Boot2[int(B*0.001):int(B*0.999),0:1])"
   ]
  },
  {
   "cell_type": "code",
   "execution_count": 12,
   "metadata": {},
   "outputs": [
    {
     "name": "stdout",
     "output_type": "stream",
     "text": [
      "[[0.19686728 0.19198258 0.17872769 0.18222477]]\n"
     ]
    }
   ],
   "source": [
    "print(SES)"
   ]
  },
  {
   "cell_type": "markdown",
   "metadata": {},
   "source": [
    "### <font color='green'> 3) Compare the standard errors using 95% confidence intervals"
   ]
  },
  {
   "cell_type": "code",
   "execution_count": 13,
   "metadata": {},
   "outputs": [
    {
     "name": "stdout",
     "output_type": "stream",
     "text": [
      "[[1 1 1 1]]\n"
     ]
    }
   ],
   "source": [
    "# check if the confidence intervals constructed by the four s.e. methods contain the true parameter value\n",
    "CI = ((beta_ols - 1.96*SES) < beta0)*((beta_ols + 1.96*SES) > beta0)*1\n",
    "print(CI)"
   ]
  },
  {
   "cell_type": "markdown",
   "metadata": {},
   "source": [
    "## <font color='green'> Simulations"
   ]
  },
  {
   "cell_type": "code",
   "execution_count": 14,
   "metadata": {},
   "outputs": [],
   "source": [
    "# define a function for simulations\n",
    "\n",
    "def simul(dgp,n,G,B,beta0,itern): # B = # of bootstrap samples in se4; itern = # of simulations \n",
    "    CI = np.zeros((itern,4))\n",
    "    BETA = np.zeros(itern)\n",
    "    \n",
    "    for s in range(0,itern):\n",
    "        xmu, xsigma2 = 0, 0.1\n",
    "        X = np.random.normal(xmu, xsigma2, (n*G,1))\n",
    "        \n",
    "        if dgp == 1:\n",
    "            u = np.random.normal(0, 2, (n*G,1))\n",
    "            \n",
    "        elif dgp == 2:\n",
    "            u = np.zeros((n*G,1))\n",
    "            for i in range(0,n*G):\n",
    "                sigma2 = abs(X[i,0])\n",
    "                u[i,0] = np.random.normal(0, sigma2)\n",
    "            \n",
    "        elif dgp == 3:\n",
    "            u = np.empty((0,1))\n",
    "            X = np.empty((0,1))\n",
    "            for g in range(0,G):\n",
    "                x0 = np.random.normal(xmu, xsigma2, (n,1)) + np.random.normal(xmu, xsigma2)\n",
    "                X = np.concatenate((X, np.reshape(x0,(n,1))), axis=0)\n",
    "                u0 = np.random.normal(0, 1, (n,1)) + np.random.normal(0,1)\n",
    "                u = np.concatenate((u, np.reshape(u0,(n,1))), axis=0)\n",
    "        else:\n",
    "            u = (np.exp(np.random.normal(0, 1, (n*G,1)))-np.exp(0.5))/np.sqrt(np.exp(2)-np.exp(1))\n",
    "            \n",
    "        Y = X*beta0 + u\n",
    "        beta_ols = (X.T@Y)/(X.T@X)\n",
    "        BETA[s] = beta_ols\n",
    "        \n",
    "        SES = np.zeros((1,4))\n",
    "        resid = Y-X*beta_ols\n",
    "        sigma2e = (resid.T@resid)/(X.shape[0]-X.shape[1])\n",
    "        SES[0,0] = np.sqrt(sigma2e/(X.T@X))\n",
    "        SES[0,1] = np.sqrt(((resid*resid).T@(X*X))/((X.T@X)**2))\n",
    "        \n",
    "        SE30 = 0\n",
    "        for g in range(0,G):\n",
    "            SE30 += X[g*n:(g+1)*n,0:1].T@(resid[g*n:(g+1)*n,0:1]@resid[g*n:(g+1)*n,0:1].T)@X[g*n:(g+1)*n,0:1]\n",
    "    \n",
    "        adj = (n*G-1)/(n*G-X.shape[1])*(G)/(G-1)\n",
    "        SES[0,2] = np.sqrt(adj*SE30/((X.T@X)**2))\n",
    "        \n",
    "        Boot = np.zeros((B,1))\n",
    "        for b in range(0,B):\n",
    "            Yr, Xr = resample(Y, X)\n",
    "            Boot[b,0] = (Xr.T@Yr)/(Xr.T@Xr)\n",
    "    \n",
    "        Boot2 = np.sort(Boot, axis=0)\n",
    "        SES[0,3] = np.std(Boot2[int(B*0.001):int(B*0.999),0:1])\n",
    "        \n",
    "        CI[s,:] = ((beta_ols - 1.96*SES) < beta0)*((beta_ols + 1.96*SES) > beta0)*1\n",
    "    \n",
    "    CI_rate = np.mean(CI, axis=0)\n",
    "    \n",
    "    return CI_rate, BETA"
   ]
  },
  {
   "cell_type": "code",
   "execution_count": 15,
   "metadata": {},
   "outputs": [
    {
     "name": "stderr",
     "output_type": "stream",
     "text": [
      "C:\\Users\\gmoor\\AppData\\Local\\Temp\\ipykernel_28468\\1518527123.py:33: DeprecationWarning: Conversion of an array with ndim > 0 to a scalar is deprecated, and will error in future. Ensure you extract a single element from your array before performing this operation. (Deprecated NumPy 1.25.)\n",
      "  BETA[s] = beta_ols\n",
      "C:\\Users\\gmoor\\AppData\\Local\\Temp\\ipykernel_28468\\1518527123.py:38: DeprecationWarning: Conversion of an array with ndim > 0 to a scalar is deprecated, and will error in future. Ensure you extract a single element from your array before performing this operation. (Deprecated NumPy 1.25.)\n",
      "  SES[0,0] = np.sqrt(sigma2e/(X.T@X))\n",
      "C:\\Users\\gmoor\\AppData\\Local\\Temp\\ipykernel_28468\\1518527123.py:39: DeprecationWarning: Conversion of an array with ndim > 0 to a scalar is deprecated, and will error in future. Ensure you extract a single element from your array before performing this operation. (Deprecated NumPy 1.25.)\n",
      "  SES[0,1] = np.sqrt(((resid*resid).T@(X*X))/((X.T@X)**2))\n",
      "C:\\Users\\gmoor\\AppData\\Local\\Temp\\ipykernel_28468\\1518527123.py:46: DeprecationWarning: Conversion of an array with ndim > 0 to a scalar is deprecated, and will error in future. Ensure you extract a single element from your array before performing this operation. (Deprecated NumPy 1.25.)\n",
      "  SES[0,2] = np.sqrt(adj*SE30/((X.T@X)**2))\n",
      "C:\\Users\\gmoor\\AppData\\Local\\Temp\\ipykernel_28468\\1518527123.py:51: DeprecationWarning: Conversion of an array with ndim > 0 to a scalar is deprecated, and will error in future. Ensure you extract a single element from your array before performing this operation. (Deprecated NumPy 1.25.)\n",
      "  Boot[b,0] = (Xr.T@Yr)/(Xr.T@Xr)\n"
     ]
    }
   ],
   "source": [
    "CI_rate, BETA = simul(3,10,50,500,1,1000) #(dgp,n,G,B,beta0,itern)\n",
    "# CI_rate (Coverage rate) = proportions of iterations that a given s.e. method's CIs includes the true value\n",
    "# BETA = beta estimates over the iterations"
   ]
  },
  {
   "cell_type": "code",
   "execution_count": 16,
   "metadata": {},
   "outputs": [
    {
     "name": "stdout",
     "output_type": "stream",
     "text": [
      "[0.729 0.728 0.929 0.727]\n"
     ]
    }
   ],
   "source": [
    "print(CI_rate)"
   ]
  },
  {
   "cell_type": "code",
   "execution_count": 17,
   "metadata": {},
   "outputs": [
    {
     "name": "stdout",
     "output_type": "stream",
     "text": [
      "0.8085508271166821\n",
      "0.9403269607846043\n"
     ]
    }
   ],
   "source": [
    "print(np.std(BETA))\n",
    "print(np.mean(BETA, axis=0))"
   ]
  },
  {
   "cell_type": "code",
   "execution_count": 18,
   "metadata": {},
   "outputs": [
    {
     "data": {
      "image/png": "[encoded data removed]",
      "text/plain": [
       "<Figure size 640x480 with 1 Axes>"
      ]
     },
     "metadata": {},
     "output_type": "display_data"
    }
   ],
   "source": [
    "import matplotlib.pyplot as plt\n",
    "plt.hist(BETA,bins = 100)\n",
    "plt.show()"
   ]
  },
  {
   "cell_type": "markdown",
   "metadata": {},
   "source": [
    "### <font color='green'> Question 1: Using the function, run simulations and calculate relevant statistics/graphs to support the following statement\n",
    "* <font color='red'> \"The OLS estimator is unbiased even if the errors are heteroskedastic or clustered or non-normal\"\n",
    "* Throughout the simulations, set n = 10, G = 50, B = 500, itern = 1000"
   ]
  },
  {
   "cell_type": "markdown",
   "metadata": {},
   "source": [
    "### <font color='green'> Question 2: Interpretation of over- or under-coverage\n",
    "    (1) For dgp = 2 or 3, run simulations and compute CI_rates (throughout the simulations, set n = 10, G = 50, B = 500, itern = 1000). You will find some s.e. methods exhibit coverage rates significantly lower than the confidence level 0.95. How would you interpret coverage rates being lower or higher than the confidence level?\n",
    "    \n",
    "    (2) To answer the question, modify the function so that it stores the standard errors computed from the four s.e. methods over the iterations and return them as a result item. Then, calculate the averages of the standard errors computed from each s.e. method and compare them with the standard deviation of the beta estimates over the iteration. The s.d. of the beta estimates can be regarded as the true standard error.\n",
    "\n",
    "    \n",
    "    (3) Using the results, explain why certain s.e. methods resulted in covarge rates significantly lower than 0.95 and relate them to the properties of the four s.e. methods (recall the meaning of standard error!)"
   ]
  },
  {
   "cell_type": "markdown",
   "metadata": {},
   "source": [
    "# Answers: "
   ]
  },
  {
   "cell_type": "markdown",
   "metadata": {},
   "source": [
    "### Question 1:"
   ]
  },
  {
   "cell_type": "code",
   "execution_count": 25,
   "metadata": {},
   "outputs": [
    {
     "name": "stdout",
     "output_type": "stream",
     "text": [
      "              Data Type  Mean Beta  Std Beta\n",
      "0  Homoskedastic Normal   0.970629  0.867894\n",
      "1       Heteroskedastic   1.000707  0.078645\n",
      "2             Clustered   0.976122  1.501778\n",
      "3            Log-Normal   1.015856  0.640964\n"
     ]
    },
    {
     "data": {
      "image/png": "[encoded data removed]",
      "text/plain": [
       "<Figure size 1000x600 with 1 Axes>"
      ]
     },
     "metadata": {},
     "output_type": "display_data"
    }
   ],
   "source": [
    "# Question 1: function to run the simulation based on a specified DGP and return standard errors and OLS estimates \n",
    "import numpy as np\n",
    "import matplotlib.pyplot as plt\n",
    "\n",
    "def simul(dgp, n, G, B, beta0, itern):\n",
    "    CI = np.zeros((itern, 4))\n",
    "    BETA = np.zeros(itern)\n",
    "    \n",
    "    for s in range(0, itern):\n",
    "        xmu, xsigma2 = 0, 0.1\n",
    "        X = np.random.normal(xmu, xsigma2, (n*G, 1))\n",
    "        \n",
    "        if dgp == 1:\n",
    "            u = np.random.normal(0, 2, (n*G, 1))\n",
    "        elif dgp == 2:\n",
    "            u = np.random.normal(0, np.abs(X.flatten())).reshape(-1, 1)\n",
    "        elif dgp == 3:\n",
    "            X = np.repeat(np.random.normal(xmu, xsigma2, (G, 1)), n, axis=0)\n",
    "            u = np.repeat(np.random.normal(0, 1, (G, 1)), n, axis=0) + np.random.normal(0, 1, (n*G, 1))\n",
    "        else:  # dgp == 4\n",
    "            u = np.exp(np.random.normal(0, 1, (n*G, 1)))\n",
    "            u = (u - np.exp(0.5)) / np.sqrt(np.exp(2) - np.exp(1))\n",
    "            u *= np.sqrt(np.where(X > 0, 3, 1))\n",
    "        \n",
    "        Y = X * beta0 + u\n",
    "        beta_ols = (X.T @ Y) / (X.T @ X)\n",
    "        BETA[s] = beta_ols[0, 0]\n",
    "        \n",
    "        # We're not calculating CI here as it's not needed for this question\n",
    "    \n",
    "    return BETA\n",
    "\n",
    "# Run simulations\n",
    "np.random.seed(42)  # For reproducibility\n",
    "n, G, B, beta0, itern = 10, 50, 500, 1, 1000\n",
    "\n",
    "dgp_types = {1: 'Homoskedastic Normal', 2: 'Heteroskedastic', 3: 'Clustered', 4: 'Log-Normal'}\n",
    "results = {}\n",
    "\n",
    "for dgp in range(1, 5):\n",
    "    beta_estimates = simul(dgp, n, G, B, beta0, itern)\n",
    "    results[dgp_types[dgp]] = {\n",
    "        'beta_estimates': beta_estimates,\n",
    "        'mean_beta': np.mean(beta_estimates),\n",
    "        'std_beta': np.std(beta_estimates)\n",
    "    }\n",
    "\n",
    "# Create summary dataframe\n",
    "summary_df = pd.DataFrame({\n",
    "    'Data Type': list(results.keys()),\n",
    "    'Mean Beta': [r['mean_beta'] for r in results.values()],\n",
    "    'Std Beta': [r['std_beta'] for r in results.values()]\n",
    "})\n",
    "\n",
    "print(summary_df)\n",
    "\n",
    "# Create box plot\n",
    "plt.figure(figsize=(10, 6))\n",
    "plt.boxplot([r['beta_estimates'] for r in results.values()], labels=results.keys())\n",
    "plt.axhline(y=1, color='r', linestyle='--', label='True Beta')\n",
    "plt.title(\"Distribution of Beta Estimates Across Error Types\")\n",
    "plt.ylabel(\"Beta Estimates\")\n",
    "plt.legend()\n",
    "plt.show()"
   ]
  },
  {
   "cell_type": "markdown",
   "metadata": {},
   "source": [
    "### Question 2: "
   ]
  },
  {
   "cell_type": "markdown",
   "metadata": {},
   "source": [
    "#### (1):\n",
    "##### <font color='blue'> Answer: I would interpret coverage rates being lower than the confidence level as an indication the confidence intervals are too narrow, the standard errors are likely underestimated. The coverage rates being higher than the confidence level suggests the confidence intervals are too wide and the standard errors are likely overestimated. If the coverage rates are close to the nominal confidence level this indicates the method is well-calibrated and the standard errors are accurately estimated. "
   ]
  },
  {
   "cell_type": "markdown",
   "metadata": {},
   "source": [
    "#### (2):"
   ]
  },
  {
   "cell_type": "code",
   "execution_count": 28,
   "metadata": {},
   "outputs": [
    {
     "name": "stdout",
     "output_type": "stream",
     "text": [
      "\n",
      "Results for dgp_2:\n",
      "True SE: 0.079698\n",
      "se1: 0.044651\n",
      "se2: 0.076419\n",
      "se3: 0.075609\n",
      "se4: 0.076136\n",
      "\n",
      "Results for dgp_3:\n",
      "True SE: 1.565203\n",
      "se1: 0.637329\n",
      "se2: 0.629683\n",
      "se3: 1.445012\n",
      "se4: 0.629962\n"
     ]
    }
   ],
   "source": [
    "def simul(dgp, n, G, B, beta0, itern):\n",
    "    CI = np.zeros((itern, 4))\n",
    "    BETA = np.zeros(itern)\n",
    "    SE = {f'se{i}': np.zeros(itern) for i in range(1, 5)}\n",
    "    \n",
    "    for s in range(0, itern):\n",
    "        xmu, xsigma2 = 0, 0.1\n",
    "        X = np.random.normal(xmu, xsigma2, (n*G, 1))\n",
    "        \n",
    "        if dgp == 1:\n",
    "            u = np.random.normal(0, 2, (n*G, 1))\n",
    "        elif dgp == 2:\n",
    "            u = np.random.normal(0, np.abs(X.flatten())).reshape(-1, 1)\n",
    "        elif dgp == 3:\n",
    "            X = np.repeat(np.random.normal(xmu, xsigma2, (G, 1)), n, axis=0)\n",
    "            u = np.repeat(np.random.normal(0, 1, (G, 1)), n, axis=0) + np.random.normal(0, 1, (n*G, 1))\n",
    "        else:  # dgp == 4\n",
    "            u = np.exp(np.random.normal(0, 1, (n*G, 1)))\n",
    "            u = (u - np.exp(0.5)) / np.sqrt(np.exp(2) - np.exp(1))\n",
    "            u *= np.sqrt(np.where(X > 0, 3, 1))\n",
    "        \n",
    "        Y = X * beta0 + u\n",
    "        beta_ols = (X.T @ Y) / (X.T @ X)\n",
    "        BETA[s] = beta_ols[0, 0]\n",
    "        \n",
    "        # Calculate residuals\n",
    "        resid = Y - X * beta_ols\n",
    "        \n",
    "        # Standard error calculations\n",
    "        SE['se1'][s] = np.sqrt(np.sum(resid**2) / (n*G - 1) / np.sum(X**2))\n",
    "        SE['se2'][s] = np.sqrt(np.sum((resid**2 * X**2)) / np.sum(X**2)**2)\n",
    "        \n",
    "        se3 = 0\n",
    "        for g in range(G):\n",
    "            Xg = X[g*n:(g+1)*n]\n",
    "            residg = resid[g*n:(g+1)*n]\n",
    "            se3 += (Xg.T @ residg) ** 2\n",
    "        SE['se3'][s] = np.sqrt(se3[0,0] / np.sum(X**2)**2)\n",
    "        \n",
    "        # Bootstrap standard error\n",
    "        bootstrap_betas = []\n",
    "        for _ in range(B):\n",
    "            boot_idx = np.random.choice(n*G, n*G, replace=True)\n",
    "            X_boot, Y_boot = X[boot_idx], Y[boot_idx]\n",
    "            beta_boot = (X_boot.T @ Y_boot) / (X_boot.T @ X_boot)\n",
    "            bootstrap_betas.append(beta_boot[0,0])\n",
    "        SE['se4'][s] = np.std(bootstrap_betas)\n",
    "    \n",
    "    return BETA, SE\n",
    "\n",
    "# Run simulations\n",
    "np.random.seed(42)\n",
    "n, G, B, beta0, itern = 10, 50, 500, 1, 1000\n",
    "\n",
    "results = {}\n",
    "for dgp in [2, 3]:\n",
    "    BETA, SE = simul(dgp, n, G, B, beta0, itern)\n",
    "    true_se = np.std(BETA)\n",
    "    avg_se = {method: np.mean(se) for method, se in SE.items()}\n",
    "    \n",
    "    results[f'dgp_{dgp}'] = {\n",
    "        'true_se': true_se,\n",
    "        'avg_se': avg_se\n",
    "    }\n",
    "\n",
    "# Print results\n",
    "for dgp, res in results.items():\n",
    "    print(f\"\\nResults for {dgp}:\")\n",
    "    print(f\"True SE: {res['true_se']:.6f}\")\n",
    "    for method, se in res['avg_se'].items():\n",
    "        print(f\"{method}: {se:.6f}\")"
   ]
  },
  {
   "cell_type": "markdown",
   "metadata": {},
   "source": [
    "#### (2):\n",
    "##### <font color='blue'> Answer: The results show that the standard error methods not accounting for the true error structure lead to underestimation of standard errors and consequently lower coverage rates. For DPG_2, only the homoskedasticity-assuming method (se1) performs poorly, while the others are accurate. For DPG_3, only the cluster-robust method (se3) performs well because it correctly accounts for within-cluster correlation. These results overall show the importance of choosing standard eror estimation methods that match the underlying data, ensuring accurate statistical inference."
   ]
  }
 ],
 "metadata": {
  "kernelspec": {
   "display_name": "Python 3 (ipykernel)",
   "language": "python",
   "name": "python3"
  },
  "language_info": {
   "codemirror_mode": {
    "name": "ipython",
    "version": 3
   },
   "file_extension": ".py",
   "mimetype": "text/x-python",
   "name": "python",
   "nbconvert_exporter": "python",
   "pygments_lexer": "ipython3",
   "version": "3.11.7"
  }
 },
 "nbformat": 4,
 "nbformat_minor": 4
}
